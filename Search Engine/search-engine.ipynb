{
 "cells": [
  {
   "cell_type": "markdown",
   "metadata": {},
   "source": [
    "# Search Engine"
   ]
  },
  {
   "cell_type": "markdown",
   "metadata": {},
   "source": [
    "## Imports"
   ]
  },
  {
   "cell_type": "code",
   "execution_count": 1,
   "metadata": {},
   "outputs": [],
   "source": [
    "from tweepy.streaming import StreamListener\n",
    "from tweepy import OAuthHandler\n",
    "from tweepy import Stream\n",
    "from tweepy import API\n",
    "from tweepy import Cursor\n",
    "import json\n",
    "import datetime\n",
    "import pandas as pd\n",
    "import collections\n",
    "from collections import Counter\n",
    "from collections import defaultdict\n",
    "import csv\n",
    "import matplotlib.pyplot as plt\n",
    "import numpy as np\n",
    "from numpy import linalg as la\n",
    "import time\n",
    "import re\n",
    "import nltk\n",
    "from nltk.corpus import stopwords\n",
    "from nltk.stem import PorterStemmer\n",
    "from array import array\n",
    "import math\n",
    "import operator"
   ]
  },
  {
   "cell_type": "markdown",
   "metadata": {},
   "source": [
    "## Get Twitter API"
   ]
  },
  {
   "cell_type": "code",
   "execution_count": 2,
   "metadata": {},
   "outputs": [],
   "source": [
    "## access token informations \n",
    "access_token1 = \"1154413324605542402-Vw0b5pCK0Vtd8pRRQqTpqgR843fH8b\"\n",
    "access_token_secret1 = \"u7tHOxEgwY16GmyvZ5CGRjT2u8TCh9dbF6ja24aguwsSR\"\n",
    "\n",
    "consumer_key1 = \"xIryGomn5twiDnS9Cgs1fLQI1\"\n",
    "consumer_secret1 = \"R8DdsPYy5f335yYu8RBC6NkZFl7H6AA6dBRdFBEZa8buSHd8Hj\""
   ]
  },
  {
   "cell_type": "code",
   "execution_count": 3,
   "metadata": {},
   "outputs": [],
   "source": [
    "auth = OAuthHandler(consumer_key1, consumer_secret1)\n",
    "auth.set_access_token(access_token1, access_token_secret1)\n",
    "api = API(auth_handler=auth, wait_on_rate_limit=True, wait_on_rate_limit_notify=True)"
   ]
  },
  {
   "cell_type": "markdown",
   "metadata": {},
   "source": [
    "## Scraping"
   ]
  },
  {
   "cell_type": "code",
   "execution_count": 4,
   "metadata": {},
   "outputs": [],
   "source": [
    "class MyStreamListener(StreamListener):\n",
    "    \"\"\"\n",
    "    Twitter listener, collects streaming tweets and output to a file\n",
    "    \"\"\"\n",
    "    def __init__(self, api, OUTPUT_FILENAME, stop_condition=10):\n",
    "        \"\"\"\n",
    "        initialize the stream, with num. of tweets and saving the outputfile\n",
    "        \"\"\"\n",
    "        \n",
    "        # this line is needed to import the characteristics of the streaming API\n",
    "        super(MyStreamListener, self).__init__()\n",
    "        \n",
    "        # to-count the number of tweets collected        \n",
    "        self.num_tweets = 0\n",
    "        \n",
    "        # save filename\n",
    "        self.filename = OUTPUT_FILENAME\n",
    "        \n",
    "        # stop-condition\n",
    "        self.stop_condition = stop_condition\n",
    "        \n",
    "\n",
    "    def on_status(self, status):\n",
    "        \n",
    "        \"\"\"\n",
    "        this function runs each time a new bunch of tweets is retrived from the streaming\n",
    "        \"\"\"\n",
    "        \n",
    "        with open(self.filename, \"a+\") as f:\n",
    "            tweet = status._json\n",
    "            \n",
    "            f.write(json.dumps(tweet) + '\\n')\n",
    "            #self.output.append(tweet)\n",
    "            self.num_tweets += 1\n",
    "        \n",
    "            # Stop condition        \n",
    "            if self.num_tweets <= self.stop_condition:\n",
    "                return True\n",
    "            else:\n",
    "                return False\n",
    "        \n",
    "\n",
    "    def on_error(self, status):\n",
    "        \"\"\"\n",
    "        function useful to handle errors. It's possible to personalize it \n",
    "        depending on the way we want to handle errors\n",
    "        \"\"\"\n",
    "        \n",
    "        print(status)\n",
    "        #returning False in on_error disconnects the stream\n",
    "        return False"
   ]
  },
  {
   "cell_type": "markdown",
   "metadata": {},
   "source": [
    "A strange error returned when trying to collect 100.000 tweets so we will divide the task of collecting them in two steps (50.000 and 50.000) and then merge the tweets."
   ]
  },
  {
   "cell_type": "code",
   "execution_count": 5,
   "metadata": {},
   "outputs": [
    {
     "name": "stdout",
     "output_type": "stream",
     "text": [
      "CPU times: user 1.03 s, sys: 367 ms, total: 1.4 s\n",
      "Wall time: 27.3 s\n"
     ]
    }
   ],
   "source": [
    "%%time\n",
    "\n",
    "OUTPUT_FILENAME = \"data/one.json\"\n",
    "stop_condition = 50000\n",
    "\n",
    "l = MyStreamListener(api, OUTPUT_FILENAME, stop_condition)\n",
    "# here we recall the Stream Class from Tweepy to input the authentication info and our personalized listener \n",
    "stream = Stream(auth=api.auth, listener=l)\n",
    "\n",
    "# keywords we may want decide to track \n",
    "TRACKING_KEYWORDS = ['pcr',\"coronavirus\", 'virus','covid']\n",
    "stream.filter(\n",
    "    track=TRACKING_KEYWORDS, \n",
    "    is_async=False, \n",
    "    languages = [\"en\"]\n",
    ")"
   ]
  },
  {
   "cell_type": "code",
   "execution_count": 6,
   "metadata": {},
   "outputs": [
    {
     "name": "stdout",
     "output_type": "stream",
     "text": [
      "500\n",
      "CPU times: user 21.2 ms, sys: 3.62 ms, total: 24.8 ms\n",
      "Wall time: 792 ms\n"
     ]
    }
   ],
   "source": [
    "%%time\n",
    "\n",
    "OUTPUT_FILENAME = \"data/two.json\"\n",
    "stop_condition = 50000\n",
    "\n",
    "l = MyStreamListener(api, OUTPUT_FILENAME, stop_condition)\n",
    "# here we recall the Stream Class from Tweepy to input the authentication info and our personalized listener \n",
    "stream = Stream(auth=api.auth, listener=l)\n",
    "\n",
    "# keywords we may want decide to track \n",
    "TRACKING_KEYWORDS = ['SARS-CoV-2','lockdown', 'covid19','vaccine']\n",
    "stream.filter(\n",
    "    track=TRACKING_KEYWORDS, \n",
    "    is_async=False, \n",
    "    languages = [\"en\"]\n",
    ")"
   ]
  },
  {
   "cell_type": "code",
   "execution_count": 7,
   "metadata": {},
   "outputs": [],
   "source": [
    "with open(\"data/one.json\", \"rb\") as f:\n",
    "    data = f.readlines()\n",
    "    data = [json.loads(str_) for str_ in data]"
   ]
  },
  {
   "cell_type": "code",
   "execution_count": 8,
   "metadata": {},
   "outputs": [],
   "source": [
    "with open(\"data/two.json\", \"rb\") as f:\n",
    "    data2 = f.readlines()\n",
    "    data2 = [json.loads(str_) for str_ in data2]"
   ]
  },
  {
   "cell_type": "code",
   "execution_count": 9,
   "metadata": {},
   "outputs": [],
   "source": [
    "df_tweets = pd.DataFrame.from_records(data)\n",
    "df_tweets2 = pd.DataFrame.from_records(data2)\n",
    "tweets = [df_tweets,df_tweets2]\n",
    "df_tweets = pd.concat(tweets)\n",
    "df_tweets = df_tweets.drop_duplicates(subset='text', keep=\"last\")"
   ]
  },
  {
   "cell_type": "markdown",
   "metadata": {},
   "source": [
    "## Description of the data"
   ]
  },
  {
   "cell_type": "code",
   "execution_count": null,
   "metadata": {},
   "outputs": [],
   "source": [
    "def print_retweets_and_likes(ID):\n",
    "    retweets_ = df_tweets.at[ID,\"retweeted_status\"].apply(lambda x:0 if str(x)=='nan' else 1) \n",
    "    tot_retweets = sum(retweets_)\n",
    "    unique_tweets = len(retweets_) - tot_retweets\n",
    "    \n",
    "    users_ = df_tweets.user.apply(lambda x:x['id'])\n",
    "    \n",
    "    tot_users = len(set(users_))\n",
    "    \n",
    "    print(\"Tot Retweets\")\n",
    "    print(tot_retweets)\n",
    "\n",
    "    print(\"Unique Tweets\")\n",
    "    print(unique_tweets)\n",
    "    \n",
    "    print(\"Unique Users\")\n",
    "    print(tot_users)"
   ]
  },
  {
   "cell_type": "code",
   "execution_count": null,
   "metadata": {},
   "outputs": [],
   "source": [
    "def print_retweets_uniqueTweets_uniqueUsers(df_tweets):\n",
    "    retweets_ = df_tweets[\"retweeted_status\"].apply(lambda x:0 if str(x)=='nan' else 1)\n",
    "    tot_retweets = sum(retweets_)\n",
    "    unique_tweets = len(retweets_) - tot_retweets\n",
    "    \n",
    "    users_ = df_tweets.user.apply(lambda x:x['id'])\n",
    "    \n",
    "    tot_users = len(set(users_))\n",
    "    \n",
    "    print(\"Tot Retweets\")\n",
    "    print(tot_retweets)\n",
    "\n",
    "    print(\"Unique Tweets\")\n",
    "    print(unique_tweets)\n",
    "    \n",
    "    print(\"Unique Users\")\n",
    "    print(tot_users)"
   ]
  },
  {
   "cell_type": "code",
   "execution_count": 7,
   "metadata": {},
   "outputs": [
    {
     "name": "stdout",
     "output_type": "stream",
     "text": [
      "Tot Retweets\n",
      "41061\n",
      "Unique Tweets\n",
      "96158\n",
      "Unique Users\n",
      "105237\n"
     ]
    }
   ],
   "source": [
    "print_retweets_uniqueTweets_uniqueUsers(df_tweets)"
   ]
  },
  {
   "cell_type": "code",
   "execution_count": 8,
   "metadata": {},
   "outputs": [],
   "source": [
    "def extract_hashtags():\n",
    "\n",
    "    hashtags_lists = df_tweets[\"entities\"].apply(lambda x:x['hashtags']) \n",
    "    \n",
    "    hashtags = hashtags_lists.apply(lambda x:x[0]['text'].lower() if x!= [] else None) \n",
    "    \n",
    "    hashtags_by_frequency = Counter(hashtags) \n",
    "    hashtags_by_frequency = {k: hashtags_by_frequency[k] for k in hashtags_by_frequency if k!=None}\n",
    "    \n",
    "    return hashtags_by_frequency"
   ]
  },
  {
   "cell_type": "code",
   "execution_count": 9,
   "metadata": {},
   "outputs": [],
   "source": [
    "hashtags_by_frequency = extract_hashtags()"
   ]
  },
  {
   "cell_type": "code",
   "execution_count": 10,
   "metadata": {},
   "outputs": [],
   "source": [
    "df_hashtags = pd.DataFrame(hashtags_by_frequency.items())\n",
    "df_hashtags.columns = [\"hashtag\", \"count\"]\n",
    "df_hashtags.set_index(\"hashtag\", inplace=True)\n",
    "df_hashtags.sort_values(\"count\", inplace=True, ascending=False)"
   ]
  },
  {
   "cell_type": "code",
   "execution_count": 11,
   "metadata": {},
   "outputs": [
    {
     "data": {
      "image/png": "[encoded data removed]",
      "text/plain": [
       "<Figure size 432x288 with 1 Axes>"
      ]
     },
     "metadata": {
      "needs_background": "light"
     },
     "output_type": "display_data"
    }
   ],
   "source": [
    "df_hashtags.head(10).plot.barh()\n",
    "plt.show()"
   ]
  },
  {
   "cell_type": "markdown",
   "metadata": {},
   "source": [
    "## Pre-processing the tweets"
   ]
  },
  {
   "cell_type": "markdown",
   "metadata": {},
   "source": [
    "We have collected both an original tweet and all its retweets, but we have to use only the original ones. So we will first divide our tweets in unique and retweeted."
   ]
  },
  {
   "cell_type": "code",
   "execution_count": 10,
   "metadata": {},
   "outputs": [],
   "source": [
    "def getrts(df_tweets):\n",
    "    retweets_ = df_tweets[\"retweeted_status\"].apply(lambda x:0 if str(x)=='nan' else 1)\n",
    "    return retweets_"
   ]
  },
  {
   "cell_type": "code",
   "execution_count": 11,
   "metadata": {},
   "outputs": [],
   "source": [
    "#We recieve a list of 0 if tweet is unique and 1 if it is a retweet\n",
    "retweets = getrts(df_tweets)\n",
    "#We get the index of the retweets\n",
    "retweets = retweets[retweets == 1]\n",
    "retweets = retweets.index.values\n",
    "#We now get df_unique which are the original tweets and df_retweeted which are the retweeted tweets\n",
    "df_unique = df_tweets.drop(retweets,axis=0)\n",
    "df_unique = df_unique.reset_index(drop=True)\n",
    "df_retweeted = df_tweets.loc[retweets]\n",
    "df_retweeted = df_retweeted[df_retweeted['retweeted_status'].notna()]\n",
    "df_retweeted = df_retweeted.reset_index(drop=True)"
   ]
  },
  {
   "cell_type": "markdown",
   "metadata": {},
   "source": [
    "Now we will change df_retweeted tweets by the original tweets they were retweeting"
   ]
  },
  {
   "cell_type": "code",
   "execution_count": 12,
   "metadata": {},
   "outputs": [],
   "source": [
    "#We get common columns between the retweeted and the original tweets \n",
    "cols = df_retweeted.columns&df_retweeted.at[0,'retweeted_status'].keys()\n",
    "\n",
    "for i in range(0,len(df_retweeted)):\n",
    "    for col in cols:\n",
    "        if col in df_retweeted.at[i,'retweeted_status'].keys():\n",
    "            #Substitute the columns of the retweeted tweet by the original one\n",
    "            #if col != 'possibly_sensitive':\n",
    "            df_retweeted.at[i,col] = df_retweeted.at[i,'retweeted_status'][col]"
   ]
  },
  {
   "cell_type": "markdown",
   "metadata": {},
   "source": [
    "Finally we will merge the two dataframes retweeted and unique"
   ]
  },
  {
   "cell_type": "code",
   "execution_count": 13,
   "metadata": {},
   "outputs": [],
   "source": [
    "df_tweets = pd.concat([df_unique, df_retweeted], ignore_index=True)\n",
    "df_tweets = df_tweets.drop_duplicates(subset=['id'])\n",
    "df_tweets = df_tweets.reset_index(drop=True)"
   ]
  },
  {
   "cell_type": "markdown",
   "metadata": {},
   "source": [
    "Now we will get the text of the tweets. When the tweet is long, we have to acces to it in 'extended_tweet' column in order to get all the words."
   ]
  },
  {
   "cell_type": "code",
   "execution_count": 14,
   "metadata": {},
   "outputs": [],
   "source": [
    "lines = [None]*len(df_tweets)\n",
    "for i in range(0,len(df_tweets)):\n",
    "    \n",
    "    if type(df_tweets.at[i,'extended_tweet']) != float:\n",
    "        lines[i] = df_tweets.at[i,'extended_tweet']['full_text']\n",
    "    \n",
    "    else:\n",
    "        lines[i] = df_tweets.at[i,'text']\n",
    "\n",
    "lines = [l.strip() for l in lines]"
   ]
  },
  {
   "cell_type": "markdown",
   "metadata": {},
   "source": [
    "We will preprocess the tweets the following way:\n",
    "- Removing Mentions and Links\n",
    "- Removing stop-words \n",
    "- Removing punctuation \n",
    "- Stemming\n",
    "- Delete hashtags\n",
    "- Delete emojis"
   ]
  },
  {
   "cell_type": "code",
   "execution_count": 15,
   "metadata": {},
   "outputs": [],
   "source": [
    "def remove_mentions(text):\n",
    "    \n",
    "    result = text.split()\n",
    "    aux = text.split()\n",
    "    for word in aux:\n",
    "        if '@' in word:\n",
    "            result.remove(word)\n",
    "        elif 'https' in word:\n",
    "            result.remove(word)\n",
    "    result = ' '.join(result)\n",
    "    \n",
    "    return deEmojify(result)\n",
    "\n",
    "def deEmojify(text):\n",
    "    regrex_pattern = re.compile(pattern = \"[\"\n",
    "        u\"\\U0001F600-\\U0001F64F\"  # emoticons\n",
    "        u\"\\U0001F300-\\U0001F5FF\"  # symbols & pictographs\n",
    "        u\"\\U0001F680-\\U0001F6FF\"  # transport & map symbols\n",
    "        u\"\\U0001F1E0-\\U0001F1FF\"  # flags (iOS)\n",
    "                           \"]+\", flags = re.UNICODE)\n",
    "    return regrex_pattern.sub(r'',text)\n",
    "\n",
    "def delete_hashtags(text):\n",
    "    \n",
    "    result = text.split()\n",
    "    aux = text.split()\n",
    "    for word in aux:\n",
    "        if '#' in word:\n",
    "            result.remove(word)\n",
    "    result = ' '.join(result)\n",
    "    \n",
    "    return result"
   ]
  },
  {
   "cell_type": "code",
   "execution_count": 16,
   "metadata": {},
   "outputs": [],
   "source": [
    "def getTerms(line):\n",
    "    \n",
    "    #We remove mentions (@username) and links\n",
    "    line = remove_mentions(line)\n",
    "    #We remove Hashtags\n",
    "    line = delete_hashtags(line)\n",
    "    #We will get rid of RTs\n",
    "    line= line.replace(\"RT \", \"\").strip()\n",
    "    #We remove punctuations\n",
    "    line=  line.lower() \n",
    "    line = re.sub(r'[^\\w\\s]','',line).strip()\n",
    "    #We remove stop-words\n",
    "    line=  line.split()\n",
    "    stops = set(stopwords.words(\"english\"))\n",
    "    line=[word for word in line if word not in stops] \n",
    "    #Stemming\n",
    "    stemming = PorterStemmer()\n",
    "    line=[stemming.stem(word) for word in line] \n",
    "    \n",
    "    return line"
   ]
  },
  {
   "cell_type": "markdown",
   "metadata": {},
   "source": [
    "## Word Cloud"
   ]
  },
  {
   "cell_type": "code",
   "execution_count": 12,
   "metadata": {},
   "outputs": [],
   "source": [
    "from wordcloud import WordCloud, ImageColorGenerator\n",
    "STOPWORDS = stopwords.words('english')"
   ]
  },
  {
   "cell_type": "code",
   "execution_count": 13,
   "metadata": {},
   "outputs": [],
   "source": [
    "bag_of_words = {}\n",
    "for text in df_tweets[\"text\"]:\n",
    "    \n",
    "    text = text.replace(\"RT \", \"\").strip()\n",
    "    \n",
    "    # lowering text\n",
    "    text = text.lower()\n",
    "    \n",
    "    # removing all the punctuations\n",
    "    text = re.sub(r'[^\\w\\s]','',text).strip()\n",
    "    \n",
    "    # tokenize the text\n",
    "    lst_text = text.split()\n",
    "    \n",
    "    # remove stopwords\n",
    "    lst_text = [x for x in lst_text if x not in STOPWORDS]\n",
    "    \n",
    "        \n",
    "    # create bag-of-words - for each word the frequency of the word in the corpus\n",
    "    for w in lst_text:\n",
    "        if w not in bag_of_words:\n",
    "            bag_of_words[w] = 0\n",
    "        bag_of_words[w] +=1"
   ]
  },
  {
   "cell_type": "code",
   "execution_count": 53,
   "metadata": {},
   "outputs": [
    {
     "name": "stdout",
     "output_type": "stream",
     "text": [
      "covid19 : 23008\n",
      "covid : 17977\n",
      "vaccine : 14886\n",
      "lockdown : 13703\n",
      "people : 6598\n",
      "get : 4810\n",
      "new : 4695\n",
      "amp : 4464\n",
      "coronavirus : 4383\n",
      "us : 4382\n"
     ]
    }
   ],
   "source": [
    "aux = Counter(bag_of_words)\n",
    "for k, v in aux.most_common(10):\n",
    "     print (k,':',v)"
   ]
  },
  {
   "cell_type": "code",
   "execution_count": 54,
   "metadata": {},
   "outputs": [],
   "source": [
    "aux = pd.DataFrame.from_dict(aux, orient='index').reset_index()\n",
    "aux = aux.rename(columns = {'index':'word',0:'count'})\n",
    "aux.set_index(\"word\", inplace=True)\n",
    "aux.sort_values('count', inplace=True, ascending=False)"
   ]
  },
  {
   "cell_type": "code",
   "execution_count": 55,
   "metadata": {
    "scrolled": true
   },
   "outputs": [
    {
     "data": {
      "image/png": "[encoded data removed]",
      "text/plain": [
       "<Figure size 432x288 with 1 Axes>"
      ]
     },
     "metadata": {
      "needs_background": "light"
     },
     "output_type": "display_data"
    }
   ],
   "source": [
    "aux.head(10).plot.barh()\n",
    "plt.show()"
   ]
  },
  {
   "cell_type": "markdown",
   "metadata": {},
   "source": [
    "## Building search engines"
   ]
  },
  {
   "cell_type": "markdown",
   "metadata": {},
   "source": [
    "We will built two search engines based on different ways of ranking. One using the classical TF-IDF and the other based on the popularity of the tweet (likes and retweets)."
   ]
  },
  {
   "cell_type": "code",
   "execution_count": 17,
   "metadata": {},
   "outputs": [],
   "source": [
    "def create_index_tfidf(lines, numDocuments):\n",
    "        \n",
    "    index=defaultdict(list)\n",
    "    \n",
    "    #Term frequencies of terms in documents (tweets)\n",
    "    tf=defaultdict(list) \n",
    "    \n",
    "    #Document (tweet) frequencies of terms in the corpus\n",
    "    df=defaultdict(int)         \n",
    "    \n",
    "    #Inverse document (tweet) frequencies\n",
    "    idf=defaultdict(float)\n",
    "    \n",
    "    #Count we will use to assign IDs to tweets\n",
    "    count = 0\n",
    "    \n",
    "    for line in lines:\n",
    "        \n",
    "        tweet_id = count\n",
    "        \n",
    "        #We get the terms of the tweet\n",
    "        terms = getTerms(line)                     \n",
    "        termdictPage={}\n",
    "\n",
    "        for position, term in enumerate(terms): \n",
    "            try:\n",
    "                #If the term is already in the dict append the position to the corrisponding list\n",
    "                termdictPage[term][1].append(position) \n",
    "            except:\n",
    "                #Add the new term as dict key and initialize the array of positions and add the position\n",
    "                termdictPage[term]=[tweet_id, array('I',[position])]\n",
    "        \n",
    "        #Normalize term frequencies. Norm is the same for all terms of a document.\n",
    "        norm=0\n",
    "        for term, posting in termdictPage.items(): \n",
    "            norm+=len(posting[1])**2\n",
    "        norm=math.sqrt(norm)\n",
    "        \n",
    "        #Calculate the tf(dividing the term frequency by the above computed norm) and df weights\n",
    "        for term, posting in termdictPage.items():     \n",
    "            tf[term].append(np.round(len(posting[1])/norm,4))  \n",
    "            df[term] += 1\n",
    "        \n",
    "        #Merge the current page index with the main index\n",
    "        for termpage, postingpage in termdictPage.items():\n",
    "            index[termpage].append(postingpage)\n",
    "        \n",
    "        count += 1\n",
    "    \n",
    "    #Compute idf\n",
    "    for term in df:\n",
    "        idf[term] = np.round(np.log(float(numDocuments/df[term])),4)\n",
    "           \n",
    "    return index, tf, df, idf"
   ]
  },
  {
   "cell_type": "markdown",
   "metadata": {},
   "source": [
    "Create index"
   ]
  },
  {
   "cell_type": "code",
   "execution_count": 18,
   "metadata": {},
   "outputs": [
    {
     "name": "stdout",
     "output_type": "stream",
     "text": [
      "Total time to create the index: 97.05 seconds\n"
     ]
    }
   ],
   "source": [
    "start_time = time.time()\n",
    "numDocuments = len(lines)\n",
    "index, tf, df, idf = create_index_tfidf(lines, numDocuments)\n",
    "print(\"Total time to create the index: {} seconds\" .format(np.round(time.time() - start_time,2)))"
   ]
  },
  {
   "cell_type": "markdown",
   "metadata": {},
   "source": [
    "We will now define the functions to rank tweets"
   ]
  },
  {
   "cell_type": "code",
   "execution_count": 19,
   "metadata": {},
   "outputs": [],
   "source": [
    "def rankDocuments(terms, docs, index, idf, tf):\n",
    "        \n",
    "    #We are interested only on the element of the docVector corresponding to the query terms, so remaining elemnts\n",
    "    #would became 0 when multiplied to the queryVector\n",
    "    docVectors=defaultdict(lambda: [0]*len(terms)) \n",
    "    queryVector=[0]*len(terms)    \n",
    "    \n",
    "    #Get frequency of each term in the query\n",
    "    query_terms_count = collections.Counter(terms)  \n",
    "    query_norm = la.norm(list(query_terms_count.values()))\n",
    "    \n",
    "    for termIndex, term in enumerate(terms): \n",
    "        if term not in index:\n",
    "            continue\n",
    "            \n",
    "        #Compute tf*idf\n",
    "        queryVector[termIndex]=query_terms_count[term]/query_norm * idf[term] \n",
    "        \n",
    "        # Generate docVectors for matching docs\n",
    "        for docIndex, (doc, postings) in enumerate(index[term]):\n",
    "            if doc in docs:\n",
    "                docVectors[doc][termIndex]=tf[term][docIndex] * idf[term]  # Check if multiply for idf\n",
    "    \n",
    "    #Calculate the score of each doc computing cosine similarity between queryVector and each docVector\n",
    "    docScores=[ [np.dot(curDocVec, queryVector), doc] for doc, curDocVec in docVectors.items() ]\n",
    "    docScores.sort(reverse=True)\n",
    "    resultDocs=[x[1] for x in docScores]\n",
    "    \n",
    "    if len(resultDocs) == 0:\n",
    "        print(\"No results found\")\n",
    "        \n",
    "    return resultDocs"
   ]
  },
  {
   "cell_type": "code",
   "execution_count": 20,
   "metadata": {},
   "outputs": [],
   "source": [
    "def rankDocuments_Popularity(docs, likes, rts, verified):\n",
    "    \n",
    "    #Each tweet will have a score based on its popularity\n",
    "    popularity=defaultdict(list)\n",
    "    \n",
    "    for i in docs:\n",
    "        #The score for each tweet will be computed by the number of retweets plus half the count of likes\n",
    "        popularity[i] = (likes[i]/2)+rts[i]\n",
    "        #If the user is verified the popularity is popularity score is duplicated\n",
    "        if verified[i] == True:\n",
    "            popularity[i] = 2*popularity[i]\n",
    "        \n",
    "    #Sort the tweets by popularity\n",
    "    sorted_popularity = dict( sorted(popularity.items(), key=operator.itemgetter(1),reverse=True))\n",
    "    resultDocs = list(sorted_popularity.keys())\n",
    "    \n",
    "    if len(resultDocs) == 0:\n",
    "        print(\"No results found\")   \n",
    "\n",
    "    return resultDocs"
   ]
  },
  {
   "cell_type": "markdown",
   "metadata": {},
   "source": [
    "Search functions"
   ]
  },
  {
   "cell_type": "code",
   "execution_count": 21,
   "metadata": {},
   "outputs": [],
   "source": [
    "def search_tf_idf(query, index):\n",
    "    \n",
    "    #Get terms of the query\n",
    "    query=getTerms(query)\n",
    "    docs=set()\n",
    "    \n",
    "    #Count will help us to avoid a problem when doing instersection\n",
    "    count = 0\n",
    "    \n",
    "    for term in query:\n",
    "        try:\n",
    "            #Store in termDocs the ids of the docs that contain \"term\"\n",
    "            termDocs=[posting[0] for posting in index[term]]\n",
    "            \n",
    "            #As tweet must contain ALL word in query docs = docs Instersection termDocs\n",
    "            if count == 0:\n",
    "                docs |= set(termDocs)\n",
    "                count += 1\n",
    "            else:\n",
    "                docs &= set(termDocs)\n",
    "        except:\n",
    "            #Term not in index\n",
    "            pass\n",
    "        \n",
    "    docs=list(docs)\n",
    "    #We rank documents with TF-IDF\n",
    "    ranked_docs = rankDocuments(query, docs, index, idf, tf) \n",
    "    \n",
    "    return ranked_docs"
   ]
  },
  {
   "cell_type": "code",
   "execution_count": 22,
   "metadata": {},
   "outputs": [],
   "source": [
    "def search_popularity(query, index):\n",
    "    \n",
    "    #Get terms of the query\n",
    "    query=getTerms(query)\n",
    "    docs=set()\n",
    "    \n",
    "    #Store likes, retweets and if the user is verified for each tweet\n",
    "    likes=defaultdict(list)\n",
    "    rts=defaultdict(list)\n",
    "    verified=defaultdict(list)\n",
    "    \n",
    "    #Count will help us to avoid a problem when doing instersection\n",
    "    count = 0\n",
    "    \n",
    "    for term in query:\n",
    "        try:\n",
    "            #Store in termDocs the ids of the docs that contain \"term\"                        \n",
    "            termDocs=[posting[0] for posting in index[term]]\n",
    "            \n",
    "            #As tweet must contain ALL word in query docs = docs Instersection termDocs\n",
    "            if count == 0:\n",
    "                docs |= set(termDocs)\n",
    "                count += 1\n",
    "            else:\n",
    "                docs &= set(termDocs)\n",
    "        except:\n",
    "            #term is not in index\n",
    "            pass\n",
    "        \n",
    "    docs=list(docs)\n",
    "    \n",
    "    #We store likes and retweets for each tweet\n",
    "    for i in docs:\n",
    "        likes[i] = df_tweets.at[i,'favorite_count']\n",
    "        rts[i] = df_tweets.at[i,'retweet_count']\n",
    "        verified[i] = df_tweets.at[i,'user']['verified']\n",
    "        \n",
    "    #We rank documents by popularity\n",
    "    ranked_docs = rankDocuments_Popularity(docs, likes, rts,verified)  \n",
    "    \n",
    "    return ranked_docs"
   ]
  },
  {
   "cell_type": "code",
   "execution_count": 23,
   "metadata": {},
   "outputs": [],
   "source": [
    "def nolinks(text):\n",
    "    text = text.split()\n",
    "    aux = text.copy()\n",
    "    for word in aux:\n",
    "        if 'https' in word:\n",
    "            text.remove(word)\n",
    "    text = ' '.join(text)\n",
    "    return text"
   ]
  },
  {
   "cell_type": "markdown",
   "metadata": {},
   "source": [
    "## Compile search engine"
   ]
  },
  {
   "cell_type": "markdown",
   "metadata": {},
   "source": [
    "We define a function to print the top tweets returned from our search engine. The final output of a query must return (when present) the following information for each of the selected documents: \n",
    "- Tweet\n",
    "- Username\n",
    "- Date\n",
    "- Hashtags\n",
    "- Likes\n",
    "- Retweets\n",
    "- Url"
   ]
  },
  {
   "cell_type": "code",
   "execution_count": 26,
   "metadata": {},
   "outputs": [],
   "source": [
    "def PrintTweets(ranked_docs,top):\n",
    "    \n",
    "    print(\"\\n======================\\nTop {} results out of {} for the seached query:\\n\".format(top, len(ranked_docs)))\n",
    "    count = 0\n",
    "    for d_id in ranked_docs[:top] :\n",
    "        \n",
    "        print('Result number:',count+1,'\\n')\n",
    "\n",
    "        if type(df_tweets.at[d_id,'extended_tweet']) == float:\n",
    "            print('Tweet: ',nolinks(df_tweets.at[d_id,'text']))\n",
    "        else:\n",
    "            print('Tweet: ',nolinks(df_tweets.at[d_id,'extended_tweet']['full_text']))\n",
    "\n",
    "        print('\\nUsername: ',df_tweets.at[d_id,'user']['screen_name'])\n",
    "\n",
    "        print('\\nDate: ',time.strftime('%Y-%m-%d %H:%M:%S', time.strptime(df_tweets.at[d_id,'created_at'],'%a %b %d %H:%M:%S +0000 %Y')))\n",
    "\n",
    "        if df_tweets.at[d_id,\"entities\"]['hashtags'] != []:\n",
    "            hashs = [None]*len(df_tweets.at[d_id,\"entities\"]['hashtags'])\n",
    "            for i in range(0,len(df_tweets.at[d_id,\"entities\"]['hashtags'])):\n",
    "                hashs[i] = df_tweets.at[d_id,\"entities\"]['hashtags'][i]['text']\n",
    "            print('\\nHashtags: ',hashs)\n",
    "        else:\n",
    "            print('\\nHashtags: None')\n",
    "\n",
    "        print('\\nLikes: ',df_tweets.at[d_id,'favorite_count'])\n",
    "\n",
    "        print('\\nRetweets: ',df_tweets.at[d_id,'retweet_count'])\n",
    "\n",
    "        print('\\nURL: https://twitter.com/twitter/statuses/'+str(df_tweets.at[d_id,'id']))\n",
    "\n",
    "        print('\\n----------------------\\n')\n",
    "        count += 1"
   ]
  },
  {
   "cell_type": "code",
   "execution_count": 28,
   "metadata": {},
   "outputs": [
    {
     "name": "stdout",
     "output_type": "stream",
     "text": [
      "Choose way of ranking:\n",
      "1. TF-IDF\n",
      "2. POPULARITY\n",
      "1\n",
      "Insert your query:\n",
      "\n",
      "Lockdown is boring\n",
      "\n",
      "======================\n",
      "Top 20 results out of 44 for the seached query:\n",
      "\n",
      "Result number: 1 \n",
      "\n",
      "Tweet:  BORED! Bored with work Bored with Lockdown (1,2 &amp; 3) Bored with PC nonces Bored with cyclists Bored with yes men Bored with Brexit Bored with politicians (all of them) Bored with everything Crave change... Want alcohol 🍺 Want sunshine ☀️ Want somewhere else!\n",
      "\n",
      "Username:  PFSClassics\n",
      "\n",
      "Date:  2020-12-17 20:42:15\n",
      "\n",
      "Hashtags: None\n",
      "\n",
      "Likes:  0\n",
      "\n",
      "Retweets:  0\n",
      "\n",
      "URL: https://twitter.com/twitter/statuses/1339672275415674882\n",
      "\n",
      "----------------------\n",
      "\n",
      "Result number: 2 \n",
      "\n",
      "Tweet:  Who else is bored of lockdown????????\n",
      "\n",
      "Username:  HannahTompkins\n",
      "\n",
      "Date:  2020-12-17 20:57:35\n",
      "\n",
      "Hashtags: None\n",
      "\n",
      "Likes:  0\n",
      "\n",
      "Retweets:  0\n",
      "\n",
      "URL: https://twitter.com/twitter/statuses/1339676137803423746\n",
      "\n",
      "----------------------\n",
      "\n",
      "Result number: 3 \n",
      "\n",
      "Tweet:  @bethwatt27 Lockdown and tv is boring lol.\n",
      "\n",
      "Username:  TheBigM32122247\n",
      "\n",
      "Date:  2020-12-17 22:04:12\n",
      "\n",
      "Hashtags: None\n",
      "\n",
      "Likes:  0\n",
      "\n",
      "Retweets:  0\n",
      "\n",
      "URL: https://twitter.com/twitter/statuses/1339692901908033537\n",
      "\n",
      "----------------------\n",
      "\n",
      "Result number: 4 \n",
      "\n",
      "Tweet:  @Louis_Tomlinson any tips on how to not get bored during lockdown??\n",
      "\n",
      "Username:  niallsvol6\n",
      "\n",
      "Date:  2020-12-17 21:57:59\n",
      "\n",
      "Hashtags: None\n",
      "\n",
      "Likes:  0\n",
      "\n",
      "Retweets:  0\n",
      "\n",
      "URL: https://twitter.com/twitter/statuses/1339691338246270983\n",
      "\n",
      "----------------------\n",
      "\n",
      "Result number: 5 \n",
      "\n",
      "Tweet:  @3scap3_ @PentesterLab What can I say. Lockdown is really boring😅\n",
      "\n",
      "Username:  dannyft\n",
      "\n",
      "Date:  2020-12-17 19:24:08\n",
      "\n",
      "Hashtags: None\n",
      "\n",
      "Likes:  0\n",
      "\n",
      "Retweets:  0\n",
      "\n",
      "URL: https://twitter.com/twitter/statuses/1339652618369576960\n",
      "\n",
      "----------------------\n",
      "\n",
      "Result number: 6 \n",
      "\n",
      "Tweet:  @agoodfireburns @EmmaKennedy Even Vlad gets bored in lockdown.\n",
      "\n",
      "Username:  AngelaMarston\n",
      "\n",
      "Date:  2020-12-17 22:46:21\n",
      "\n",
      "Hashtags: None\n",
      "\n",
      "Likes:  0\n",
      "\n",
      "Retweets:  0\n",
      "\n",
      "URL: https://twitter.com/twitter/statuses/1339703507599941633\n",
      "\n",
      "----------------------\n",
      "\n",
      "Result number: 7 \n",
      "\n",
      "Tweet:  So fucking bored in this new lockdown haha\n",
      "\n",
      "Username:  Dan_steel_xxx\n",
      "\n",
      "Date:  2020-12-17 19:41:06\n",
      "\n",
      "Hashtags: None\n",
      "\n",
      "Likes:  0\n",
      "\n",
      "Retweets:  0\n",
      "\n",
      "URL: https://twitter.com/twitter/statuses/1339656887239847938\n",
      "\n",
      "----------------------\n",
      "\n",
      "Result number: 8 \n",
      "\n",
      "Tweet:  Lockdown 2.0 Boring, sad and lonley...\n",
      "\n",
      "Username:  kwensti\n",
      "\n",
      "Date:  2020-12-17 19:36:19\n",
      "\n",
      "Hashtags: None\n",
      "\n",
      "Likes:  0\n",
      "\n",
      "Retweets:  0\n",
      "\n",
      "URL: https://twitter.com/twitter/statuses/1339655683676000257\n",
      "\n",
      "----------------------\n",
      "\n",
      "Result number: 9 \n",
      "\n",
      "Tweet:  Lockdown has got me SO bored &amp; it’s only day 4/28 😷\n",
      "\n",
      "Username:  thatweirdonat\n",
      "\n",
      "Date:  2020-12-17 21:39:12\n",
      "\n",
      "Hashtags: None\n",
      "\n",
      "Likes:  0\n",
      "\n",
      "Retweets:  0\n",
      "\n",
      "URL: https://twitter.com/twitter/statuses/1339686611026669570\n",
      "\n",
      "----------------------\n",
      "\n",
      "Result number: 10 \n",
      "\n",
      "Tweet:  Swear I’ve become soooo boring since lockdown 🤣🤣🤣\n",
      "\n",
      "Username:  chlobain\n",
      "\n",
      "Date:  2020-12-16 12:00:34\n",
      "\n",
      "Hashtags: None\n",
      "\n",
      "Likes:  469\n",
      "\n",
      "Retweets:  51\n",
      "\n",
      "URL: https://twitter.com/twitter/statuses/1339178603028877314\n",
      "\n",
      "----------------------\n",
      "\n",
      "Result number: 11 \n",
      "\n",
      "Tweet:  Might be good for a laugh in case you’re bored in lockdown.\n",
      "\n",
      "Username:  clem_burke\n",
      "\n",
      "Date:  2020-12-16 22:56:43\n",
      "\n",
      "Hashtags: None\n",
      "\n",
      "Likes:  74\n",
      "\n",
      "Retweets:  9\n",
      "\n",
      "URL: https://twitter.com/twitter/statuses/1339343727513374721\n",
      "\n",
      "----------------------\n",
      "\n",
      "Result number: 12 \n",
      "\n",
      "Tweet:  @Louis_Tomlinson i’m bored in tier 3 lockdown, give me something to do\n",
      "\n",
      "Username:  LWThappydays_\n",
      "\n",
      "Date:  2020-12-17 21:41:15\n",
      "\n",
      "Hashtags: None\n",
      "\n",
      "Likes:  0\n",
      "\n",
      "Retweets:  0\n",
      "\n",
      "URL: https://twitter.com/twitter/statuses/1339687124321390592\n",
      "\n",
      "----------------------\n",
      "\n",
      "Result number: 13 \n",
      "\n",
      "Tweet:  Lockdown has me so bored that I would rather work on my only 2 days off\n",
      "\n",
      "Username:  ayesha1923\n",
      "\n",
      "Date:  2020-12-17 20:31:48\n",
      "\n",
      "Hashtags: None\n",
      "\n",
      "Likes:  0\n",
      "\n",
      "Retweets:  0\n",
      "\n",
      "URL: https://twitter.com/twitter/statuses/1339669646828576770\n",
      "\n",
      "----------------------\n",
      "\n",
      "Result number: 14 \n",
      "\n",
      "Tweet:  day 2 in lockdown and im already fucking bored\n",
      "\n",
      "Username:  LOVERONTHELARGE\n",
      "\n",
      "Date:  2020-12-17 20:12:23\n",
      "\n",
      "Hashtags: None\n",
      "\n",
      "Likes:  0\n",
      "\n",
      "Retweets:  0\n",
      "\n",
      "URL: https://twitter.com/twitter/statuses/1339664761953370119\n",
      "\n",
      "----------------------\n",
      "\n",
      "Result number: 15 \n",
      "\n",
      "Tweet:  To all intents and purposes, Manchester has been in lockdown since March of this year. 9 months of lockdown based on...what? I'm bored of people who claim the whole thing is a hoax but no less bored of sanctimonious folks on furlough telling me about killing granny.\n",
      "\n",
      "Username:  HaydenHewitt\n",
      "\n",
      "Date:  2020-12-17 11:37:32\n",
      "\n",
      "Hashtags: None\n",
      "\n",
      "Likes:  79\n",
      "\n",
      "Retweets:  3\n",
      "\n",
      "URL: https://twitter.com/twitter/statuses/1339535195658182656\n",
      "\n",
      "----------------------\n",
      "\n",
      "Result number: 16 \n",
      "\n",
      "Tweet:  @Louis_Tomlinson @lousgarden Any movie recommendations for us? Lockdown is getting boring already x\n",
      "\n",
      "Username:  calImebabyagain\n",
      "\n",
      "Date:  2020-12-17 21:50:50\n",
      "\n",
      "Hashtags: None\n",
      "\n",
      "Likes:  0\n",
      "\n",
      "Retweets:  0\n",
      "\n",
      "URL: https://twitter.com/twitter/statuses/1339689535085699073\n",
      "\n",
      "----------------------\n",
      "\n",
      "Result number: 17 \n",
      "\n",
      "Tweet:  @splootman @Brizo751 @MatthewRavenhil Oh no. I know. I am so bloody bored of lockdown but it’s pointless to risk anything now\n",
      "\n",
      "Username:  AliceRichIV\n",
      "\n",
      "Date:  2020-12-17 21:11:22\n",
      "\n",
      "Hashtags: None\n",
      "\n",
      "Likes:  0\n",
      "\n",
      "Retweets:  0\n",
      "\n",
      "URL: https://twitter.com/twitter/statuses/1339679603485528065\n",
      "\n",
      "----------------------\n",
      "\n",
      "Result number: 18 \n",
      "\n",
      "Tweet:  The simple reason that you're into #findom is b'cause you find your life boring. If you let Me into your life, your life will be everything but boring. It'll spice up your lockdown like there is no tomorrow. Will it be pleasant? No. Will I make your life difficult? Yes. Give in.\n",
      "\n",
      "Username:  findom_h\n",
      "\n",
      "Date:  2020-12-17 21:02:44\n",
      "\n",
      "Hashtags:  ['findom']\n",
      "\n",
      "Likes:  0\n",
      "\n",
      "Retweets:  0\n",
      "\n",
      "URL: https://twitter.com/twitter/statuses/1339677430240473088\n",
      "\n",
      "----------------------\n",
      "\n",
      "Result number: 19 \n",
      "\n",
      "Tweet:  Short little DBD or league stream - I'm bored since lockdown started\n",
      "\n",
      "Username:  Nagisaakb0\n",
      "\n",
      "Date:  2020-12-17 20:24:18\n",
      "\n",
      "Hashtags: None\n",
      "\n",
      "Likes:  0\n",
      "\n",
      "Retweets:  0\n",
      "\n",
      "URL: https://twitter.com/twitter/statuses/1339667759039442966\n",
      "\n",
      "----------------------\n",
      "\n",
      "Result number: 20 \n",
      "\n",
      "Tweet:  i’m tired, hungry and bored - yep i’m back in lockdown\n",
      "\n",
      "Username:  paposbitch\n",
      "\n",
      "Date:  2020-12-17 20:03:41\n",
      "\n",
      "Hashtags: None\n",
      "\n",
      "Likes:  0\n",
      "\n",
      "Retweets:  0\n",
      "\n",
      "URL: https://twitter.com/twitter/statuses/1339662570899333126\n",
      "\n",
      "----------------------\n",
      "\n"
     ]
    }
   ],
   "source": [
    "aux = 0\n",
    "\n",
    "while(aux==0):\n",
    "    \n",
    "    print(\"Choose way of ranking:\\n1. TF-IDF\\n2. POPULARITY\")\n",
    "    mode = input()\n",
    "    \n",
    "    if mode == str(1):\n",
    "        aux += 1\n",
    "        \n",
    "    elif mode == str(2):\n",
    "        aux += 1\n",
    "        \n",
    "    else:\n",
    "        print('\\nEntry not valid, try again.\\n')\n",
    "\n",
    "print(\"Insert your query:\\n\")\n",
    "query = input()\n",
    "top = 20\n",
    "\n",
    "if mode == str(1):\n",
    "    ranked_docs = search_tf_idf(query, index)    \n",
    "    PrintTweets(ranked_docs,top)\n",
    "\n",
    "elif mode == str(2):\n",
    "    ranked_docs = search_popularity(query,index)\n",
    "    PrintTweets(ranked_docs,top)"
   ]
  },
  {
   "cell_type": "code",
   "execution_count": null,
   "metadata": {},
   "outputs": [],
   "source": []
  }
 ],
 "metadata": {
  "kernelspec": {
   "display_name": "Python 3",
   "language": "python",
   "name": "python3"
  },
  "language_info": {
   "codemirror_mode": {
    "name": "ipython",
    "version": 3
   },
   "file_extension": ".py",
   "mimetype": "text/x-python",
   "name": "python",
   "nbconvert_exporter": "python",
   "pygments_lexer": "ipython3",
   "version": "3.8.5"
  }
 },
 "nbformat": 4,
 "nbformat_minor": 4
}
